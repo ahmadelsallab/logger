{
 "cells": [
  {
   "cell_type": "markdown",
   "metadata": {},
   "source": [
    "# Logger\n",
    "In machine learning you perform many experiments until you settle on a good model. During this journey you have a lot of checkpoints, visualizations, results,...etc.\n",
    "\n",
    "The logger helps you to organize and keep track of:\n",
    "- The experiments results\n",
    "- TODO: The model checkpoints\n",
    "- TODO: Different visualizations and curves\n",
    "\n"
   ]
  },
  {
   "cell_type": "markdown",
   "metadata": {},
   "source": [
    "# Requirements\n",
    "\n",
    "``` \n",
    "pip install requirements.txt\n",
    "```\n"
   ]
  },
  {
   "cell_type": "markdown",
   "metadata": {},
   "source": [
    "# Install"
   ]
  },
  {
   "cell_type": "code",
   "execution_count": 1,
   "metadata": {},
   "outputs": [
    {
     "name": "stdout",
     "output_type": "stream",
     "text": [
      "Collecting git+https://github.com/ahmadelsallab/ml_logger.git\n",
      "  Cloning https://github.com/ahmadelsallab/ml_logger.git to /tmp/pip-req-build-asf4a3qg\n",
      "Requirement already satisfied: pandas==0.23.0 in /home/ahmad/anaconda3/lib/python3.6/site-packages (from ml-logger==1.0) (0.23.0)\n",
      "Requirement already satisfied: logger==1.4 in /home/ahmad/anaconda3/lib/python3.6/site-packages (from ml-logger==1.0) (1.4)\n",
      "Collecting PyYAML==5.1.1 (from ml-logger==1.0)\n",
      "Requirement already satisfied: python-dateutil>=2.5.0 in /home/ahmad/anaconda3/lib/python3.6/site-packages (from pandas==0.23.0->ml-logger==1.0) (2.7.3)\n",
      "Requirement already satisfied: pytz>=2011k in /home/ahmad/anaconda3/lib/python3.6/site-packages (from pandas==0.23.0->ml-logger==1.0) (2018.4)\n",
      "Requirement already satisfied: numpy>=1.9.0 in /home/ahmad/anaconda3/lib/python3.6/site-packages (from pandas==0.23.0->ml-logger==1.0) (1.14.3)\n",
      "Requirement already satisfied: six>=1.5 in /home/ahmad/anaconda3/lib/python3.6/site-packages (from python-dateutil>=2.5.0->pandas==0.23.0->ml-logger==1.0) (1.11.0)\n",
      "Building wheels for collected packages: ml-logger\n",
      "  Running setup.py bdist_wheel for ml-logger ... \u001b[?25ldone\n",
      "\u001b[?25h  Stored in directory: /tmp/pip-ephem-wheel-cache-_4j0nz3m/wheels/87/e8/54/b5d82d55496a377ebe30a4b436616fe2bb006e9fc9055c6003\n",
      "Successfully built ml-logger\n",
      "Installing collected packages: PyYAML, ml-logger\n",
      "  Found existing installation: PyYAML 3.12\n",
      "\u001b[31mCannot uninstall 'PyYAML'. It is a distutils installed project and thus we cannot accurately determine which files belong to it which would lead to only a partial uninstall.\u001b[0m\n",
      "\u001b[33mYou are using pip version 10.0.1, however version 19.1.1 is available.\n",
      "You should consider upgrading via the 'pip install --upgrade pip' command.\u001b[0m\n"
     ]
    }
   ],
   "source": [
    "!pip install git+https://github.com/ahmadelsallab/ml_logger.git"
   ]
  },
  {
   "cell_type": "markdown",
   "metadata": {},
   "source": [
    "___or alternatively clone the repo inside your project___"
   ]
  },
  {
   "cell_type": "code",
   "execution_count": 3,
   "metadata": {},
   "outputs": [
    {
     "name": "stdout",
     "output_type": "stream",
     "text": [
      "Cloning into 'ml_logger'...\n",
      "remote: Enumerating objects: 65, done.\u001b[K\n",
      "remote: Counting objects: 100% (65/65), done.\u001b[K\n",
      "remote: Compressing objects: 100% (39/39), done.\u001b[K\n",
      "remote: Total 65 (delta 38), reused 44 (delta 23), pack-reused 0\u001b[K\n",
      "Unpacking objects: 100% (65/65), done.\n",
      "\u001b[31mDirectory '.' is not installable. File 'setup.py' not found.\u001b[0m\n",
      "\u001b[33mYou are using pip version 10.0.1, however version 19.1.1 is available.\n",
      "You should consider upgrading via the 'pip install --upgrade pip' command.\u001b[0m\n"
     ]
    }
   ],
   "source": [
    "!git clone https://github.com/ahmadelsallab/ml_logger.git\n",
    "!cd ml_logger\n",
    "!pip install ."
   ]
  },
  {
   "cell_type": "code",
   "execution_count": 6,
   "metadata": {},
   "outputs": [],
   "source": [
    "!cd ml_logger\n"
   ]
  },
  {
   "cell_type": "markdown",
   "metadata": {},
   "source": [
    "# Usage\n",
    "More use cases under tests/test_experiment.py\n",
    "\n",
    "## Log new experiment result\n",
    "In general any experiment is composed of:\n",
    "- meta_data: name, purpose, file, commit,...etc\n",
    "- config: mostly the hyperparameters, and any other configuration like the used features. For deep learning, config can be further divided into: data, model, optimizer, learning hyper parameters\n",
    "- results: metrics, best model file, comment,..etc\n",
    "\n"
   ]
  },
  {
   "cell_type": "markdown",
   "metadata": {},
   "source": [
    "\n",
    "Suppose all your previous records are in 'results_old.csv'.\n",
    "\n",
    "And now you want to log a new experiment."
   ]
  },
  {
   "cell_type": "code",
   "execution_count": 2,
   "metadata": {},
   "outputs": [
    {
     "ename": "ModuleNotFoundError",
     "evalue": "No module named 'mllogger'",
     "output_type": "error",
     "traceback": [
      "\u001b[0;31m---------------------------------------------------------------------------\u001b[0m",
      "\u001b[0;31mModuleNotFoundError\u001b[0m                       Traceback (most recent call last)",
      "\u001b[0;32m<ipython-input-2-63fa094e68d3>\u001b[0m in \u001b[0;36m<module>\u001b[0;34m()\u001b[0m\n\u001b[0;32m----> 1\u001b[0;31m \u001b[0;32mimport\u001b[0m \u001b[0mmllogger\u001b[0m\u001b[0;34m\u001b[0m\u001b[0m\n\u001b[0m",
      "\u001b[0;31mModuleNotFoundError\u001b[0m: No module named 'mllogger'"
     ]
    }
   ],
   "source": [
    "import mllogger"
   ]
  },
  {
   "cell_type": "code",
   "execution_count": 2,
   "metadata": {},
   "outputs": [
    {
     "ename": "SyntaxError",
     "evalue": "invalid syntax (<ipython-input-2-cfb51d3371f5>, line 9)",
     "output_type": "error",
     "traceback": [
      "\u001b[0;36m  File \u001b[0;32m\"<ipython-input-2-cfb51d3371f5>\"\u001b[0;36m, line \u001b[0;32m9\u001b[0m\n\u001b[0;31m    'learning_rate': 0.0001,\u001b[0m\n\u001b[0m                   ^\u001b[0m\n\u001b[0;31mSyntaxError\u001b[0m\u001b[0;31m:\u001b[0m invalid syntax\n"
     ]
    }
   ],
   "source": [
    "from ml_logger.experiments import Experiment\n",
    "\n",
    "exp_meta_data = {'name': 'experiment_1',\n",
    "            'purpose': 'test my awesome model',\n",
    "             'date': 'today'\n",
    "            }\n",
    "\n",
    "exp_config = {'model_arch': '100-100-100'\n",
    "          'learning_rate': 0.0001,\n",
    "          'epochs': 2,\n",
    "          'optimizer': 'Adam',\n",
    "         }\n",
    "\n",
    "exp_results = {'val_acc': 0.95, \n",
    "         'F1': 0.92\n",
    "         'Comment': 'Best model'}\n",
    "\n",
    "experiment = Experiment(csv_file='results_old.csv', meta_data=meta_data, config=config, results=results)\n",
    "\n"
   ]
  },
  {
   "cell_type": "markdown",
   "metadata": {},
   "source": [
    "__Note that__\n",
    "\n",
    "you can add or remove experiment parameters. In that case, if you add a parameter, old records will have NaN for those. If you delete some parameters, they will remain in the old records, but will be NaN in the new logged one."
   ]
  },
  {
   "cell_type": "markdown",
   "metadata": {},
   "source": [
    "Now Write CSV of the results"
   ]
  },
  {
   "cell_type": "code",
   "execution_count": null,
   "metadata": {},
   "outputs": [],
   "source": [
    "experiment.to_csv('results.csv')"
   ]
  },
  {
   "cell_type": "markdown",
   "metadata": {},
   "source": [
    "## Alternatively, you could init the Experiment with the old records, and later log one or more experiment"
   ]
  },
  {
   "cell_type": "code",
   "execution_count": null,
   "metadata": {},
   "outputs": [],
   "source": [
    "from ml_logger.experiments import Experiment\n",
    "\n",
    "# Load the old records\n",
    "experiment = Experiment(csv_file='results_old.csv')\n",
    "\n",
    "# TODO: perform you experiment\n",
    "\n",
    "# Now log the new experiment data\n",
    "exp_meta_data = {'name': 'experiment_1',\n",
    "            'purpose': 'test my awesome model',\n",
    "             'date': 'today'\n",
    "            }\n",
    "\n",
    "exp_config = {'model_arch': '100-100-100'\n",
    "          'learning_rate': 0.0001,\n",
    "          'epochs': 2\n",
    "          'optimizer': 'Adam'\n",
    "         }\n",
    "\n",
    "exp_results = {'val_acc': 0.95, \n",
    "         'F1': 0.92\n",
    "         'Comment': 'Best model'}\n",
    "\n",
    "experiment.log_experiment(meta_data=meta_data, config=config, results=results)\n",
    "\n",
    "# Export the whole result\n",
    "experiment.to_csv('results.csv')"
   ]
  },
  {
   "cell_type": "markdown",
   "metadata": {},
   "source": [
    "## You can init an emtpy experiment, or with a certain csv, and add or change the old records csv.\n",
    "\n",
    "__But in this case, the records will be modified not appended or updated.__"
   ]
  },
  {
   "cell_type": "code",
   "execution_count": null,
   "metadata": {},
   "outputs": [],
   "source": [
    "from ml_logger.experiments import Experiment\n",
    "# Init empty experiment\n",
    "experiment = Experiment() # or Experiment(csv_file=\"another_results.csv\")\n",
    "\n",
    "# Update with another\n",
    "experiment.from_csv(csv_file='results_old.csv')\n",
    "\n",
    "# Now log the new experiment data\n",
    "exp_meta_data = {'name': 'experiment_1',\n",
    "            'purpose': 'test my awesome model',\n",
    "             'date': 'today'\n",
    "            }\n",
    "\n",
    "exp_config = {'model_arch': '100-100-100'\n",
    "          'learning_rate': 0.0001,\n",
    "          'epochs': 2\n",
    "          'optimizer': 'Adam'\n",
    "         }\n",
    "\n",
    "exp_results = {'val_acc': 0.95, \n",
    "         'F1': 0.92\n",
    "         'Comment': 'Best model'}\n",
    "\n",
    "experiment.log_experiment(meta_data=meta_data, config=config, results=results)\n",
    "\n",
    "# Export the whole result\n",
    "experiment.to_csv('results.csv')"
   ]
  },
  {
   "cell_type": "markdown",
   "metadata": {},
   "source": [
    "## Other use cases\n",
    "\n",
    "- You can load old records from pandas.DataFrame instead of csv using orig_df in the Experiment constructor\n",
    "```\n",
    "df = pd.read_csv('results.old.csv')\n",
    "experiment = Experiment(orig_df=df)\n",
    "```\n",
    "\n",
    "- You can log experiment using yaml files, either in init or using ```from_yaml``` method\n",
    "\n"
   ]
  },
  {
   "cell_type": "markdown",
   "metadata": {},
   "source": [
    "# Known issues\n",
    "\n",
    "https://github.com/ahmadelsallab/logger/issues"
   ]
  },
  {
   "cell_type": "markdown",
   "metadata": {},
   "source": [
    "# Future developments\n",
    "- JSON Support\n",
    "- xlsx support\n",
    "- The model checkpoints\n",
    "- Different visualizations and curves\n",
    "- Upload the result file to gdrive for online updates and sharing\n"
   ]
  }
 ],
 "metadata": {
  "kernelspec": {
   "display_name": "Python 3",
   "language": "python",
   "name": "python3"
  },
  "language_info": {
   "codemirror_mode": {
    "name": "ipython",
    "version": 3
   },
   "file_extension": ".py",
   "mimetype": "text/x-python",
   "name": "python",
   "nbconvert_exporter": "python",
   "pygments_lexer": "ipython3",
   "version": "3.6.5"
  }
 },
 "nbformat": 4,
 "nbformat_minor": 2
}
