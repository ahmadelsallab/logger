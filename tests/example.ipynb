{
 "cells": [
  {
   "cell_type": "markdown",
   "metadata": {},
   "source": [
    "# Logger\n",
    "In machine learning you perform many experiments until you settle on a good model. During this journey you have a lot of checkpoints, visualizations, results,...etc.\n",
    "\n",
    "The logger helps you to organize and keep track of:\n",
    "- The experiments results\n",
    "- TODO: The model checkpoints\n",
    "- TODO: Different visualizations and curves\n",
    "\n"
   ]
  },
  {
   "cell_type": "markdown",
   "metadata": {},
   "source": [
    "# Requirements\n",
    "\n",
    "``` \n",
    "pip install requirements.txt\n",
    "```\n"
   ]
  },
  {
   "cell_type": "markdown",
   "metadata": {},
   "source": [
    "# Install"
   ]
  },
  {
   "cell_type": "code",
   "execution_count": 1,
   "metadata": {},
   "outputs": [
    {
     "name": "stdout",
     "output_type": "stream",
     "text": [
      "Collecting git+https://github.com/ahmadelsallab/logger.git\n",
      "  Cloning https://github.com/ahmadelsallab/logger.git to /tmp/pip-req-build-hldj1x3x\n",
      "    Complete output from command python setup.py egg_info:\n",
      "    Traceback (most recent call last):\n",
      "      File \"<string>\", line 1, in <module>\n",
      "      File \"/home/ahmad/anaconda3/lib/python3.6/tokenize.py\", line 452, in open\n",
      "        buffer = _builtin_open(filename, 'rb')\n",
      "    FileNotFoundError: [Errno 2] No such file or directory: '/tmp/pip-req-build-hldj1x3x/setup.py'\n",
      "    \n",
      "    ----------------------------------------\n",
      "\u001b[31mCommand \"python setup.py egg_info\" failed with error code 1 in /tmp/pip-req-build-hldj1x3x/\u001b[0m\n",
      "\u001b[33mYou are using pip version 10.0.1, however version 19.1.1 is available.\n",
      "You should consider upgrading via the 'pip install --upgrade pip' command.\u001b[0m\n"
     ]
    }
   ],
   "source": [
    "!pip install git+https://github.com/ahmadelsallab/logger.git\n",
    "    "
   ]
  },
  {
   "cell_type": "markdown",
   "metadata": {},
   "source": [
    "___or alternatively clone the repo inside your project___"
   ]
  },
  {
   "cell_type": "code",
   "execution_count": null,
   "metadata": {},
   "outputs": [],
   "source": [
    "!git clone https://github.com/ahmadelsallab/logger.git"
   ]
  },
  {
   "cell_type": "markdown",
   "metadata": {},
   "source": [
    "# Usage\n",
    "More use cases under tests/test_experiment.py\n",
    "\n",
    "## Log new experiment result\n",
    "In general any experiment is composed of:\n",
    "- meta_data: name, purpose, file, commit,...etc\n",
    "- config: mostly the hyperparameters, and any other configuration like the used features. For deep learning, config can be further divided into: data, model, optimizer, learning hyper parameters\n",
    "- results: metrics, best model file, comment,..etc\n",
    "\n"
   ]
  },
  {
   "cell_type": "markdown",
   "metadata": {},
   "source": [
    "\n",
    "Suppose all your previous records are in 'results_old.csv'.\n",
    "\n",
    "And now you want to log a new experiment."
   ]
  },
  {
   "cell_type": "code",
   "execution_count": null,
   "metadata": {},
   "outputs": [],
   "source": [
    "from logger.experiments import Experiment\n",
    "\n",
    "exp_meta_data = {'name': 'experiment_1',\n",
    "            'purpose': 'test my awesome model',\n",
    "             'date': 'today'\n",
    "            }\n",
    "\n",
    "exp_config = {'model_arch': '100-100-100'\n",
    "          'learning_rate': 0.0001,\n",
    "          'epochs': 2\n",
    "          'optimizer': 'Adam'\n",
    "         }\n",
    "\n",
    "exp_results = {'val_acc': 0.95, \n",
    "         'F1': 0.92\n",
    "         'Comment': 'Best model'}\n",
    "\n",
    "experiment = Experiment(csv_file='results_old.csv', meta_data=meta_data, config=config, results=results)\n",
    "\n"
   ]
  },
  {
   "cell_type": "markdown",
   "metadata": {},
   "source": [
    "__Note that__\n",
    "\n",
    "you can add or remove experiment parameters. In that case, if you add a parameter, old records will have NaN for those. If you delete some parameters, they will remain in the old records, but will be NaN in the new logged one."
   ]
  },
  {
   "cell_type": "markdown",
   "metadata": {},
   "source": [
    "Now Write CSV of the results"
   ]
  },
  {
   "cell_type": "code",
   "execution_count": null,
   "metadata": {},
   "outputs": [],
   "source": [
    "experiment.to_csv('results.csv')"
   ]
  },
  {
   "cell_type": "markdown",
   "metadata": {},
   "source": [
    "## Alternatively, you could init the Experiment with the old records, and later log one or more experiment"
   ]
  },
  {
   "cell_type": "code",
   "execution_count": null,
   "metadata": {},
   "outputs": [],
   "source": [
    "from logger.experiments import Experiment\n",
    "\n",
    "# Load the old records\n",
    "experiment = Experiment(csv_file='results_old.csv')\n",
    "\n",
    "# TODO: perform you experiment\n",
    "\n",
    "# Now log the new experiment data\n",
    "exp_meta_data = {'name': 'experiment_1',\n",
    "            'purpose': 'test my awesome model',\n",
    "             'date': 'today'\n",
    "            }\n",
    "\n",
    "exp_config = {'model_arch': '100-100-100'\n",
    "          'learning_rate': 0.0001,\n",
    "          'epochs': 2\n",
    "          'optimizer': 'Adam'\n",
    "         }\n",
    "\n",
    "exp_results = {'val_acc': 0.95, \n",
    "         'F1': 0.92\n",
    "         'Comment': 'Best model'}\n",
    "\n",
    "experiment.log_experiment(meta_data=meta_data, config=config, results=results)\n",
    "\n",
    "# Export the whole result\n",
    "experiment.to_csv('results.csv')"
   ]
  },
  {
   "cell_type": "markdown",
   "metadata": {},
   "source": [
    "## You can init an emtpy experiment, or with a certain csv, and add or change the old records csv.\n",
    "\n",
    "__But in this case, the records will be modified not appended or updated.__"
   ]
  },
  {
   "cell_type": "code",
   "execution_count": null,
   "metadata": {},
   "outputs": [],
   "source": [
    "from logger.experiments import Experiment\n",
    "# Init empty experiment\n",
    "experiment = Experiment() # or Experiment(csv_file=\"another_results.csv\")\n",
    "\n",
    "# Update with another\n",
    "experiment.from_csv(csv_file='results_old.csv')\n",
    "\n",
    "# Now log the new experiment data\n",
    "exp_meta_data = {'name': 'experiment_1',\n",
    "            'purpose': 'test my awesome model',\n",
    "             'date': 'today'\n",
    "            }\n",
    "\n",
    "exp_config = {'model_arch': '100-100-100'\n",
    "          'learning_rate': 0.0001,\n",
    "          'epochs': 2\n",
    "          'optimizer': 'Adam'\n",
    "         }\n",
    "\n",
    "exp_results = {'val_acc': 0.95, \n",
    "         'F1': 0.92\n",
    "         'Comment': 'Best model'}\n",
    "\n",
    "experiment.log_experiment(meta_data=meta_data, config=config, results=results)\n",
    "\n",
    "# Export the whole result\n",
    "experiment.to_csv('results.csv')"
   ]
  },
  {
   "cell_type": "markdown",
   "metadata": {},
   "source": [
    "## Other use cases\n",
    "\n",
    "- You can load old records from pandas.DataFrame instead of csv using orig_df in the Experiment constructor\n",
    "```\n",
    "df = pd.read_csv('results.old.csv')\n",
    "experiment = Experiment(orig_df=df)\n",
    "```\n",
    "\n",
    "- You can log experiment using yaml files, either in init or using ```from_yaml``` method\n",
    "\n"
   ]
  },
  {
   "cell_type": "markdown",
   "metadata": {},
   "source": [
    "# Known issues\n",
    "\n",
    "https://github.com/ahmadelsallab/logger/issues"
   ]
  },
  {
   "cell_type": "markdown",
   "metadata": {},
   "source": [
    "# Future developments\n",
    "- JSON Support\n",
    "- xlsx support\n",
    "- The model checkpoints\n",
    "- Different visualizations and curves\n",
    "- Upload the result file to gdrive for online updates and sharing\n"
   ]
  }
 ],
 "metadata": {
  "kernelspec": {
   "display_name": "Python 3",
   "language": "python",
   "name": "python3"
  },
  "language_info": {
   "codemirror_mode": {
    "name": "ipython",
    "version": 3
   },
   "file_extension": ".py",
   "mimetype": "text/x-python",
   "name": "python",
   "nbconvert_exporter": "python",
   "pygments_lexer": "ipython3",
   "version": "3.6.5"
  }
 },
 "nbformat": 4,
 "nbformat_minor": 2
}
